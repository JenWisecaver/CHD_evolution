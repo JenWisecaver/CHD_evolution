{
 "cells": [
  {
   "cell_type": "code",
   "execution_count": null,
   "metadata": {},
   "outputs": [],
   "source": [
    "# Extract iupred domains in animal subfamily III and plant MOM clades \n",
    "# Must have a signficiant hit to iupred domain in one or more model seqs"
   ]
  },
  {
   "cell_type": "code",
   "execution_count": null,
   "metadata": {},
   "outputs": [],
   "source": [
    "modelSet = set()\n",
    "fi = open('models.txt')\n",
    "\n",
    "for line in fi:\n",
    "    accn = line.rstrip()\n",
    "    modelSet.add(accn)\n",
    "    #print(accn)\n",
    "fi.close()"
   ]
  },
  {
   "cell_type": "code",
   "execution_count": null,
   "metadata": {},
   "outputs": [],
   "source": [
    "infile = 'iupred_globular_domains_MOM_CHDIII.domtblout.txt'\n",
    "\n",
    "fi = open(infile)\n",
    "for line in fi:\n",
    "    if line[0] == '#':\n",
    "        continue\n",
    "        \n",
    "    col = line.rstrip().split()\n",
    "    \n",
    "    taccn = col[0]\n",
    "    qaccn = col[3]\n",
    "    evalue = col[11]\n",
    "    \n",
    "    if float(evalue) > 1e-3:\n",
    "        continue\n",
    "\n",
    "    if qaccn in modelSet:\n",
    "        if taccn in modelSet:\n",
    "            if qaccn == taccn:\n",
    "                continue\n",
    "            print(taccn,qaccn,evalue)\n",
    "fi.close()"
   ]
  },
  {
   "cell_type": "code",
   "execution_count": null,
   "metadata": {},
   "outputs": [],
   "source": [
    "listfile = 'MOM_CHDIII.txt'\n",
    "fi = open(listfile)\n",
    "accnSet = set()\n",
    "for line in fi:\n",
    "    accn = line.rstrip()\n",
    "    accnSet.add(accn)\n",
    "fi.close()"
   ]
  },
  {
   "cell_type": "code",
   "execution_count": null,
   "metadata": {},
   "outputs": [],
   "source": [
    "len(accnSet)"
   ]
  },
  {
   "cell_type": "code",
   "execution_count": null,
   "metadata": {},
   "outputs": [],
   "source": [
    "modelDict = {}\n",
    "fi = open('models.txt')\n",
    "\n",
    "for line in fi:\n",
    "    accn,cat = line.rstrip().split()\n",
    "    modelDict[accn] = cat\n",
    "    #print(accn)\n",
    "fi.close()"
   ]
  },
  {
   "cell_type": "code",
   "execution_count": null,
   "metadata": {},
   "outputs": [],
   "source": [
    "len(modelDict)"
   ]
  },
  {
   "cell_type": "code",
   "execution_count": null,
   "metadata": {},
   "outputs": [],
   "source": [
    "infile = 'iupred_globular_domains.domtblout.txt'\n",
    "\n",
    "seqDict = {}\n",
    "fi = open(infile)\n",
    "\n",
    "for line in fi:\n",
    "    if line[0] == '#':\n",
    "        continue\n",
    "        \n",
    "    col = line.rstrip().split()\n",
    "    \n",
    "    target = col[0]\n",
    "    taccn = target.split('_iupred_')[0]\n",
    "    query = col[3]\n",
    "    \n",
    "    evalue = col[11]\n",
    "    \n",
    "    if float(evalue) > 1e-3:\n",
    "        continue\n",
    "\n",
    "    if query in modelDict:\n",
    "        \n",
    "        if taccn in accnSet:\n",
    "            cat = modelDict[query]\n",
    "            if cat not in seqDict:\n",
    "                seqDict[cat] = set()\n",
    "            \n",
    "            seqDict[cat].add(target)\n",
    "        \n",
    "fi.close()"
   ]
  },
  {
   "cell_type": "code",
   "execution_count": null,
   "metadata": {},
   "outputs": [],
   "source": [
    "for cat in seqDict:\n",
    "    print(cat, len(seqDict[cat]))"
   ]
  },
  {
   "cell_type": "code",
   "execution_count": null,
   "metadata": {},
   "outputs": [],
   "source": [
    "for cat in seqDict:\n",
    "    print(cat, len(seqDict[cat]))"
   ]
  },
  {
   "cell_type": "code",
   "execution_count": null,
   "metadata": {},
   "outputs": [],
   "source": [
    "from Bio import SeqIO\n",
    "seqfile = 'iupred_globular_domains.fa'\n",
    "fastaDict = {}\n",
    "\n",
    "for seq_record in SeqIO.parse(seqfile, 'fasta'):\n",
    "    header = seq_record.description\n",
    "    sequence = str(seq_record.seq)    \n",
    "    accn = header.split('-')[0]\n",
    "    \n",
    "    fastaDict[accn] = sequence"
   ]
  },
  {
   "cell_type": "code",
   "execution_count": null,
   "metadata": {},
   "outputs": [],
   "source": [
    "for cat in seqDict:\n",
    "    outfile = cat + '_custom_iupred.fa'\n",
    "    fo = open(outfile, 'w')\n",
    "    \n",
    "    for accn in seqDict[cat]:\n",
    "        sequence = fastaDict[accn]\n",
    "        if len(sequence) > 600:\n",
    "            continue\n",
    "        \n",
    "        fo.write('>' + accn + '\\n' + sequence + '\\n')\n",
    "    \n",
    "    fo.close()"
   ]
  },
  {
   "cell_type": "code",
   "execution_count": null,
   "metadata": {},
   "outputs": [],
   "source": []
  }
 ],
 "metadata": {
  "kernelspec": {
   "display_name": "Python (My env.genomics Kernel)",
   "language": "python",
   "name": "env.genomics"
  },
  "language_info": {
   "codemirror_mode": {
    "name": "ipython",
    "version": 3
   },
   "file_extension": ".py",
   "mimetype": "text/x-python",
   "name": "python",
   "nbconvert_exporter": "python",
   "pygments_lexer": "ipython3",
   "version": "3.6.11"
  }
 },
 "nbformat": 4,
 "nbformat_minor": 4
}
