{
 "cells": [
  {
   "cell_type": "code",
   "execution_count": null,
   "metadata": {},
   "outputs": [],
   "source": [
    "import glob\n",
    "from Bio import SeqIO"
   ]
  },
  {
   "cell_type": "code",
   "execution_count": null,
   "metadata": {},
   "outputs": [],
   "source": [
    "seqfile = 'allhits.fa'\n",
    "seqDict = {}\n",
    "\n",
    "for seq_record in SeqIO.parse(seqfile, 'fasta'):\n",
    "    header = seq_record.description\n",
    "    sequence = str(seq_record.seq)    \n",
    "    accn = header.split('-')[0]\n",
    "    \n",
    "    seqDict[accn] = sequence"
   ]
  },
  {
   "cell_type": "code",
   "execution_count": null,
   "metadata": {},
   "outputs": [],
   "source": [
    "infiles = 'output/*txt'\n",
    "outfile = 'iupred_globular_domains.fa'\n",
    "fo = open(outfile, 'w')\n",
    "\n",
    "for infile in glob.glob(infiles):\n",
    "    print(infile)\n",
    "    accn = infile.split('/')[1].split('.iupred')[0]\n",
    "    sequence = seqDict[accn]\n",
    "    fi = open(infile)\n",
    "    for line in fi:\n",
    "        if line[0] == ' ':\n",
    "            #print(accn, line.split()[3])\n",
    "            \n",
    "            start = int(line.split()[3].split('-')[0])\n",
    "            end = int(line.split()[3].split('-')[1])\n",
    "            \n",
    "            domain = sequence[start - 1 : end]\n",
    "            header = accn + '_iupred_' + str(start) + '_' + str(end)\n",
    "            fo.write('>' + header + '\\n' + domain + '\\n')\n",
    "    \n",
    "    fi.close()\n",
    "    \n",
    "fo.close()"
   ]
  },
  {
   "cell_type": "code",
   "execution_count": null,
   "metadata": {},
   "outputs": [],
   "source": []
  }
 ],
 "metadata": {
  "kernelspec": {
   "display_name": "Python (My env.genomics Kernel)",
   "language": "python",
   "name": "env.genomics"
  },
  "language_info": {
   "codemirror_mode": {
    "name": "ipython",
    "version": 3
   },
   "file_extension": ".py",
   "mimetype": "text/x-python",
   "name": "python",
   "nbconvert_exporter": "python",
   "pygments_lexer": "ipython3",
   "version": "3.6.11"
  }
 },
 "nbformat": 4,
 "nbformat_minor": 4
}
