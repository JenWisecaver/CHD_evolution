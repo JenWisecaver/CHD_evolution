{
 "cells": [
  {
   "cell_type": "code",
   "execution_count": null,
   "metadata": {},
   "outputs": [],
   "source": [
    "from Bio import SeqIO"
   ]
  },
  {
   "cell_type": "code",
   "execution_count": null,
   "metadata": {},
   "outputs": [],
   "source": [
    "seqfile = 'allhits.fa'\n",
    "submitfile = 'run_iupred.sub'\n",
    "sfo = open(submitfile, 'a')\n",
    "\n",
    "for seq_record in SeqIO.parse(seqfile, 'fasta'):\n",
    "    header = seq_record.description\n",
    "    sequence = str(seq_record.seq)    \n",
    "    accn = header.split('-')[0]\n",
    "    \n",
    "    if accn in accnSet:\n",
    "        outfile = 'seqs/' + accn + '.fa'\n",
    "        fo = open(outfile, 'w')\n",
    "        #print(accn)\n",
    "        fo.write('>' + header + '\\n' + sequence + '\\n')\n",
    "        sfo.write('iupred3.py -a ' + outfile + ' glob > output/' + accn + '.iupred.txt\\n')\n",
    "        fo.close()\n",
    "\n",
    "sfo.close()"
   ]
  }
 ],
 "metadata": {
  "kernelspec": {
   "display_name": "Python (My env.genomics Kernel)",
   "language": "python",
   "name": "env.genomics"
  },
  "language_info": {
   "codemirror_mode": {
    "name": "ipython",
    "version": 3
   },
   "file_extension": ".py",
   "mimetype": "text/x-python",
   "name": "python",
   "nbconvert_exporter": "python",
   "pygments_lexer": "ipython3",
   "version": "3.6.11"
  }
 },
 "nbformat": 4,
 "nbformat_minor": 4
}
