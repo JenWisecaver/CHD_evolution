{
 "cells": [
  {
   "cell_type": "code",
   "execution_count": null,
   "metadata": {},
   "outputs": [],
   "source": [
    "# create iupred linegraph\n",
    "import pandas as pd\n",
    "import seaborn as sns\n",
    "import matplotlib.pyplot as plt\n",
    "from matplotlib import rcParams\n",
    "\n",
    "# figure size in inches\n",
    "rcParams['figure.figsize'] = 3,1"
   ]
  },
  {
   "cell_type": "code",
   "execution_count": null,
   "metadata": {},
   "outputs": [],
   "source": [
    "def create_plot():\n",
    "    # create an Empty DataFrame object\n",
    "    df = pd.DataFrame(columns = ['Position', 'Score'])\n",
    "\n",
    "    fi = open(infile)\n",
    "    outfile = genename + '.iupred.pdf'\n",
    "\n",
    "    for line in fi: \n",
    "        if line[0] == '#':\n",
    "            continue\n",
    "        col = line.rstrip().split('\\t')\n",
    "        #print(col[0], len(col))\n",
    "\n",
    "        if len(col) != 4:\n",
    "            continue\n",
    "\n",
    "        pos = int(col[0])\n",
    "        iupred = float(col[2])\n",
    "\n",
    "        #print(pos,iupred)\n",
    "        df = df.append({'Position' : pos, 'Score' : iupred}, ignore_index = True)\n",
    "\n",
    "    fi.close()\n",
    "\n",
    "    sns.set_style(\"ticks\")\n",
    "    sns.set(font_scale = 0.65, style = 'ticks')\n",
    "\n",
    "    plt = sns.lineplot(data=df, x='Position', y='Score', color = 'darkred')\n",
    "    plt.axhline(y = 0.5, color = 'black')\n",
    "    plt.set(ylim=(0, 1.0))\n",
    "    sns.despine(offset=10, trim=True);\n",
    "    plt.figure.suptitle(genename)\n",
    "    plt.figure.savefig(outfile, dpi=300)\n",
    "    \n",
    "    plt.clear()"
   ]
  },
  {
   "cell_type": "code",
   "execution_count": null,
   "metadata": {},
   "outputs": [],
   "source": [
    "accn = 'XP_015625288.1'\n",
    "infile = 'output/' + accn + '.iupred.txt'"
   ]
  },
  {
   "cell_type": "code",
   "execution_count": null,
   "metadata": {},
   "outputs": [],
   "source": [
    "listfile = 'models.txt'\n",
    "fi = open(listfile)\n",
    "\n",
    "for line in fi:\n",
    "    col = line.rstrip().split('\\t')\n",
    "    accn = col[0]\n",
    "    genename = col[6]\n",
    "    print(accn,genename)\n",
    "    infile = 'output/' + accn + '.iupred.txt'\n",
    "    create_plot()\n",
    "    \n",
    "fi.close()"
   ]
  },
  {
   "cell_type": "code",
   "execution_count": null,
   "metadata": {},
   "outputs": [],
   "source": []
  }
 ],
 "metadata": {
  "kernelspec": {
   "display_name": "Python (My env.genomics Kernel)",
   "language": "python",
   "name": "env.genomics"
  },
  "language_info": {
   "codemirror_mode": {
    "name": "ipython",
    "version": 3
   },
   "file_extension": ".py",
   "mimetype": "text/x-python",
   "name": "python",
   "nbconvert_exporter": "python",
   "pygments_lexer": "ipython3",
   "version": "3.6.11"
  }
 },
 "nbformat": 4,
 "nbformat_minor": 4
}
